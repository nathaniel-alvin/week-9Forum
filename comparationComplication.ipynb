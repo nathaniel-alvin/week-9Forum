{
 "cells": [
  {
   "cell_type": "code",
   "execution_count": 19,
   "metadata": {},
   "outputs": [],
   "source": [
    "# obligatory import session\n",
    "import numpy as np\n",
    "import atexit\n",
    "from time import time\n",
    "from datetime import timedelta\n",
    "import random"
   ]
  },
  {
   "cell_type": "code",
   "execution_count": 20,
   "metadata": {},
   "outputs": [],
   "source": [
    "# algorithm O(NlogN)\n",
    "def heapify(arr, n, i):\n",
    "    largest = i  # Initialize largest as root\n",
    "    l = 2 * i + 1     # left = 2*i + 1\n",
    "    r = 2 * i + 2     # right = 2*i + 2\n",
    "\n",
    "    # See if left child of root exists and is\n",
    "    # greater than root\n",
    "    if l < n and arr[largest] < arr[l]:\n",
    "        largest = l\n",
    "\n",
    "    # See if right child of root exists and is\n",
    "    # greater than root\n",
    "    if r < n and arr[largest] < arr[r]:\n",
    "        largest = r\n",
    "\n",
    "    # Change root, if needed\n",
    "    if largest != i:\n",
    "        arr[i], arr[largest] = arr[largest], arr[i]  # swap\n",
    "\n",
    "        # Heapify the root.\n",
    "        heapify(arr, n, largest)\n",
    "\n",
    "\n",
    "# The main function to sort an array of given size\n",
    "def heapSort(arr):\n",
    "    n = len(arr)\n",
    "\n",
    "    # Build a maxheap.\n",
    "    for i in range(n//2 - 1, -1, -1):\n",
    "        heapify(arr, n, i)\n",
    "\n",
    "    # One by one extract elements\n",
    "    for i in range(n-1, 0, -1):\n",
    "        arr[i], arr[0] = arr[0], arr[i]  # swap\n",
    "        heapify(arr, i, 0)"
   ]
  },
  {
   "cell_type": "code",
   "execution_count": 21,
   "metadata": {},
   "outputs": [],
   "source": [
    "# algorithm o(N**2)\n",
    "# selection sort \n",
    "\n",
    "def selectionSort(arr):\n",
    "    \"\"\"selection sort function\"\"\"\n",
    "    for step in range(len(arr)):\n",
    "        min_idx = step\n",
    "\n",
    "        for i in range(step + 1, len(arr)):\n",
    "         \n",
    "            # to sort in descending order, change > to < in this line\n",
    "            # select the minimum element in each loop\n",
    "            if arr[i] < arr[min_idx]:\n",
    "                min_idx = i\n",
    "         \n",
    "        # put min at the correct position\n",
    "        (arr[step], arr[min_idx]) = (arr[min_idx], arr[step])"
   ]
  },
  {
   "cell_type": "code",
   "execution_count": 22,
   "metadata": {},
   "outputs": [],
   "source": [
    "\"\"\"Code to print the list\"\"\"\n",
    "\n",
    "def printList(arr):\n",
    "    for i in range(len(arr)):\n",
    "        print(arr[i], end=\" \")\n",
    "    print()"
   ]
  },
  {
   "cell_type": "code",
   "execution_count": 23,
   "metadata": {},
   "outputs": [],
   "source": [
    "# small array generator\n",
    "lilArray = random.sample(range(500), 500)\n",
    "lilArray1 = lilArray\n",
    "\n",
    "# med array generator\n",
    "medArray = random.sample(range(5000), 5000)\n",
    "medArray1 = medArray\n",
    "\n",
    "# big array generator\n",
    "bigArray = random.sample(range(10000), 10000)\n",
    "bigArray1 = bigArray"
   ]
  },
  {
   "cell_type": "code",
   "execution_count": 24,
   "metadata": {},
   "outputs": [
    {
     "name": "stdout",
     "output_type": "stream",
     "text": [
      "time it takes for heap sort to sort a small array (500 elements) is 0.0040035247802734375 seconds\n",
      "time it takes for selection sort to sort a small array (500 elements) is 0.019016265869140625 seconds\n",
      "\n",
      "time it takes for heap sort to sort a medium array (5000 elements) is 0.06105542182922363 seconds\n",
      "time it takes for selection sort to sort a medium array (5000 elements) is 1.8011400699615479 seconds\n",
      "\n",
      "time it takes for heap sort to sort a big array (10000 elements) is 0.11310291290283203 seconds\n",
      "time it takes for selection sort to sort a big array (10000 elements) is 6.920680284500122 seconds\n",
      "\n"
     ]
    }
   ],
   "source": [
    "\"\"\"time function\"\"\"\n",
    "\n",
    "# small array (100 elements)\n",
    "start_time = time()\n",
    "heapSort(lilArray)\n",
    "print(f\"time it takes for heap sort to sort a small array (500 elements) is {time() - start_time} seconds\")\n",
    "\n",
    "start_time = time()\n",
    "selectionSort(lilArray1)\n",
    "print(f\"time it takes for selection sort to sort a small array (500 elements) is {time() - start_time} seconds\\n\")\n",
    "\n",
    "# medium array (1000 elements)\n",
    "start_time = time()\n",
    "heapSort(medArray)\n",
    "print(f\"time it takes for heap sort to sort a medium array (5000 elements) is {time() - start_time} seconds\")\n",
    "\n",
    "start_time = time()\n",
    "selectionSort(medArray1)\n",
    "print(f\"time it takes for selection sort to sort a medium array (5000 elements) is {time() - start_time} seconds\\n\")\n",
    "\n",
    "# big array (10000 elements)\n",
    "start_time = time()\n",
    "heapSort(bigArray)\n",
    "print(f\"time it takes for heap sort to sort a big array (10000 elements) is {time() - start_time} seconds\")\n",
    "\n",
    "start_time = time()\n",
    "selectionSort(bigArray1)\n",
    "print(f\"time it takes for selection sort to sort a big array (10000 elements) is {time() - start_time} seconds\\n\")"
   ]
  }
 ],
 "metadata": {
  "interpreter": {
   "hash": "6fa8c4a0213b3e8e46e64ca221d4ef2f7254b1e53b83d6209b624a99d7aa7db4"
  },
  "kernelspec": {
   "display_name": "Python 3.8.5 32-bit",
   "language": "python",
   "name": "python3"
  },
  "language_info": {
   "codemirror_mode": {
    "name": "ipython",
    "version": 3
   },
   "file_extension": ".py",
   "mimetype": "text/x-python",
   "name": "python",
   "nbconvert_exporter": "python",
   "pygments_lexer": "ipython3",
   "version": "3.9.7"
  },
  "orig_nbformat": 4
 },
 "nbformat": 4,
 "nbformat_minor": 2
}
